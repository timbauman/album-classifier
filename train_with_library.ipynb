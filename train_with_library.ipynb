{
 "cells": [
  {
   "cell_type": "code",
   "execution_count": 4,
   "id": "ef5bd81f",
   "metadata": {
    "scrolled": true
   },
   "outputs": [
    {
     "name": "stdout",
     "output_type": "stream",
     "text": [
      "Starting get_top_album_genres\n",
      "Starting get_top_tags\n",
      "get_top_tags ran in 0.306870698928833 seconds\n",
      "get_top_album_genres ran in 4.656466960906982 seconds\n",
      "Starting sample_album_genres\n",
      "sample_album_genres ran in 0.08742094039916992 seconds\n",
      "Starting build_learner\n"
     ]
    },
    {
     "data": {
      "text/html": [],
      "text/plain": [
       "<IPython.core.display.HTML object>"
      ]
     },
     "metadata": {},
     "output_type": "display_data"
    },
    {
     "name": "stdout",
     "output_type": "stream",
     "text": [
      "build_learner ran in 59.66943097114563 seconds\n"
     ]
    },
    {
     "name": "stderr",
     "output_type": "stream",
     "text": [
      "/opt/homebrew/Caskroom/miniforge/base/envs/bandclassifier/lib/python3.9/site-packages/torch/autocast_mode.py:141: UserWarning: User provided device_type of 'cuda', but CUDA is not available. Disabling\n",
      "  warnings.warn('User provided device_type of \\'cuda\\', but CUDA is not available. Disabling')\n"
     ]
    }
   ],
   "source": [
    "from train_album_name_classifier import *\n",
    "album_genres = get_top_album_genres(2, True)\n",
    "learner = build_learner(sample_album_genres(album_genres, 100000), True)"
   ]
  },
  {
   "cell_type": "code",
   "execution_count": 37,
   "id": "33183386",
   "metadata": {},
   "outputs": [
    {
     "name": "stdout",
     "output_type": "stream",
     "text": [
      "Starting get_top_tags\n",
      "get_top_tags ran in 0.412891149520874 seconds\n"
     ]
    }
   ],
   "source": [
    "album_genres = pd.read_csv(\"/Users/timothybauman/mbdump/album_genres.csv\")\n",
    "top_tags = get_top_tags(album_genres, 10)\n"
   ]
  },
  {
   "cell_type": "code",
   "execution_count": 39,
   "id": "3a7ddf2a",
   "metadata": {},
   "outputs": [],
   "source": [
    "\n",
    "def find_least_common_genre(tags, genres):\n",
    "    genre_set = set(genres)\n",
    "    return next(tag for tag in tags if tag in genre_set)\n",
    "\n",
    "filtered_album_genres = album_genres[album_genres[\"genre\"].isin(top_tags.index)]\n",
    "filtered_album_genres_set = filtered_album_genres.groupby(\n",
    "        filtered_album_genres[\"release_group_id\"]\n",
    "    ).aggregate(\n",
    "        {\n",
    "            \"genre\": partial(find_least_common_genre, list(reversed(top_tags.index))),\n",
    "            \"name_release_group\": \"first\",\n",
    "            \"name_artist\": \"first\",\n",
    "        }\n",
    "    )"
   ]
  },
  {
   "cell_type": "code",
   "execution_count": 40,
   "id": "2f5ccf2d",
   "metadata": {},
   "outputs": [
    {
     "data": {
      "text/html": [
       "<div>\n",
       "<style scoped>\n",
       "    .dataframe tbody tr th:only-of-type {\n",
       "        vertical-align: middle;\n",
       "    }\n",
       "\n",
       "    .dataframe tbody tr th {\n",
       "        vertical-align: top;\n",
       "    }\n",
       "\n",
       "    .dataframe thead th {\n",
       "        text-align: right;\n",
       "    }\n",
       "</style>\n",
       "<table border=\"1\" class=\"dataframe\">\n",
       "  <thead>\n",
       "    <tr style=\"text-align: right;\">\n",
       "      <th></th>\n",
       "      <th>Unnamed: 0</th>\n",
       "      <th>release_group_id</th>\n",
       "      <th>name_release_group</th>\n",
       "      <th>name_artist</th>\n",
       "      <th>genre</th>\n",
       "    </tr>\n",
       "  </thead>\n",
       "  <tbody>\n",
       "    <tr>\n",
       "      <th>2</th>\n",
       "      <td>2</td>\n",
       "      <td>13</td>\n",
       "      <td>The Inevitable</td>\n",
       "      <td>Squirrel Nut Zippers</td>\n",
       "      <td>jazz</td>\n",
       "    </tr>\n",
       "    <tr>\n",
       "      <th>5</th>\n",
       "      <td>5</td>\n",
       "      <td>52424</td>\n",
       "      <td>Christmas Caravan</td>\n",
       "      <td>Squirrel Nut Zippers</td>\n",
       "      <td>jazz</td>\n",
       "    </tr>\n",
       "    <tr>\n",
       "      <th>9</th>\n",
       "      <td>9</td>\n",
       "      <td>55359</td>\n",
       "      <td>Bedlam Ballroom</td>\n",
       "      <td>Squirrel Nut Zippers</td>\n",
       "      <td>jazz</td>\n",
       "    </tr>\n",
       "    <tr>\n",
       "      <th>12</th>\n",
       "      <td>12</td>\n",
       "      <td>59228</td>\n",
       "      <td>Perennial Favorites</td>\n",
       "      <td>Squirrel Nut Zippers</td>\n",
       "      <td>jazz</td>\n",
       "    </tr>\n",
       "    <tr>\n",
       "      <th>15</th>\n",
       "      <td>15</td>\n",
       "      <td>116174</td>\n",
       "      <td>Sold Out</td>\n",
       "      <td>Squirrel Nut Zippers</td>\n",
       "      <td>jazz</td>\n",
       "    </tr>\n",
       "    <tr>\n",
       "      <th>18</th>\n",
       "      <td>18</td>\n",
       "      <td>669959</td>\n",
       "      <td>In Store Play Sampler Fall 1998</td>\n",
       "      <td>Squirrel Nut Zippers</td>\n",
       "      <td>jazz</td>\n",
       "    </tr>\n",
       "    <tr>\n",
       "      <th>22</th>\n",
       "      <td>22</td>\n",
       "      <td>152598</td>\n",
       "      <td>Roasted Right</td>\n",
       "      <td>Squirrel Nut Zippers</td>\n",
       "      <td>jazz</td>\n",
       "    </tr>\n",
       "    <tr>\n",
       "      <th>24</th>\n",
       "      <td>24</td>\n",
       "      <td>133342</td>\n",
       "      <td>The Best of Squirrel Nut Zippers as Chronicled by Shorty Brown</td>\n",
       "      <td>Squirrel Nut Zippers</td>\n",
       "      <td>jazz</td>\n",
       "    </tr>\n",
       "    <tr>\n",
       "      <th>26</th>\n",
       "      <td>26</td>\n",
       "      <td>11</td>\n",
       "      <td>Hot</td>\n",
       "      <td>Squirrel Nut Zippers</td>\n",
       "      <td>jazz</td>\n",
       "    </tr>\n",
       "    <tr>\n",
       "      <th>29</th>\n",
       "      <td>29</td>\n",
       "      <td>28</td>\n",
       "      <td>Piece and Love</td>\n",
       "      <td>Meg Lee Chin</td>\n",
       "      <td>electronic</td>\n",
       "    </tr>\n",
       "    <tr>\n",
       "      <th>34</th>\n",
       "      <td>34</td>\n",
       "      <td>201375</td>\n",
       "      <td>Junkies and Snakes</td>\n",
       "      <td>Meg Lee Chin</td>\n",
       "      <td>electronic</td>\n",
       "    </tr>\n",
       "    <tr>\n",
       "      <th>36</th>\n",
       "      <td>36</td>\n",
       "      <td>60</td>\n",
       "      <td>Ultimate Alternative Wavers</td>\n",
       "      <td>Built to Spill</td>\n",
       "      <td>rock</td>\n",
       "    </tr>\n",
       "    <tr>\n",
       "      <th>37</th>\n",
       "      <td>37</td>\n",
       "      <td>60</td>\n",
       "      <td>Ultimate Alternative Wavers</td>\n",
       "      <td>Built to Spill</td>\n",
       "      <td>indie rock</td>\n",
       "    </tr>\n",
       "    <tr>\n",
       "      <th>38</th>\n",
       "      <td>38</td>\n",
       "      <td>53732</td>\n",
       "      <td>Ancient Melodies of the Future</td>\n",
       "      <td>Built to Spill</td>\n",
       "      <td>rock</td>\n",
       "    </tr>\n",
       "    <tr>\n",
       "      <th>39</th>\n",
       "      <td>39</td>\n",
       "      <td>53732</td>\n",
       "      <td>Ancient Melodies of the Future</td>\n",
       "      <td>Built to Spill</td>\n",
       "      <td>indie rock</td>\n",
       "    </tr>\n",
       "    <tr>\n",
       "      <th>40</th>\n",
       "      <td>40</td>\n",
       "      <td>56383</td>\n",
       "      <td>Keep It Like a Secret</td>\n",
       "      <td>Built to Spill</td>\n",
       "      <td>alternative rock</td>\n",
       "    </tr>\n",
       "    <tr>\n",
       "      <th>41</th>\n",
       "      <td>41</td>\n",
       "      <td>56383</td>\n",
       "      <td>Keep It Like a Secret</td>\n",
       "      <td>Built to Spill</td>\n",
       "      <td>rock</td>\n",
       "    </tr>\n",
       "    <tr>\n",
       "      <th>43</th>\n",
       "      <td>43</td>\n",
       "      <td>56383</td>\n",
       "      <td>Keep It Like a Secret</td>\n",
       "      <td>Built to Spill</td>\n",
       "      <td>indie rock</td>\n",
       "    </tr>\n",
       "    <tr>\n",
       "      <th>44</th>\n",
       "      <td>44</td>\n",
       "      <td>98760</td>\n",
       "      <td>Carry the Zero</td>\n",
       "      <td>Built to Spill</td>\n",
       "      <td>pop</td>\n",
       "    </tr>\n",
       "    <tr>\n",
       "      <th>45</th>\n",
       "      <td>45</td>\n",
       "      <td>98760</td>\n",
       "      <td>Carry the Zero</td>\n",
       "      <td>Built to Spill</td>\n",
       "      <td>rock</td>\n",
       "    </tr>\n",
       "  </tbody>\n",
       "</table>\n",
       "</div>"
      ],
      "text/plain": [
       "    Unnamed: 0  release_group_id  \\\n",
       "2            2                13   \n",
       "5            5             52424   \n",
       "9            9             55359   \n",
       "12          12             59228   \n",
       "15          15            116174   \n",
       "18          18            669959   \n",
       "22          22            152598   \n",
       "24          24            133342   \n",
       "26          26                11   \n",
       "29          29                28   \n",
       "34          34            201375   \n",
       "36          36                60   \n",
       "37          37                60   \n",
       "38          38             53732   \n",
       "39          39             53732   \n",
       "40          40             56383   \n",
       "41          41             56383   \n",
       "43          43             56383   \n",
       "44          44             98760   \n",
       "45          45             98760   \n",
       "\n",
       "                                                name_release_group  \\\n",
       "2                                                   The Inevitable   \n",
       "5                                                Christmas Caravan   \n",
       "9                                                  Bedlam Ballroom   \n",
       "12                                             Perennial Favorites   \n",
       "15                                                        Sold Out   \n",
       "18                                 In Store Play Sampler Fall 1998   \n",
       "22                                                   Roasted Right   \n",
       "24  The Best of Squirrel Nut Zippers as Chronicled by Shorty Brown   \n",
       "26                                                             Hot   \n",
       "29                                                  Piece and Love   \n",
       "34                                              Junkies and Snakes   \n",
       "36                                     Ultimate Alternative Wavers   \n",
       "37                                     Ultimate Alternative Wavers   \n",
       "38                                  Ancient Melodies of the Future   \n",
       "39                                  Ancient Melodies of the Future   \n",
       "40                                           Keep It Like a Secret   \n",
       "41                                           Keep It Like a Secret   \n",
       "43                                           Keep It Like a Secret   \n",
       "44                                                  Carry the Zero   \n",
       "45                                                  Carry the Zero   \n",
       "\n",
       "             name_artist             genre  \n",
       "2   Squirrel Nut Zippers              jazz  \n",
       "5   Squirrel Nut Zippers              jazz  \n",
       "9   Squirrel Nut Zippers              jazz  \n",
       "12  Squirrel Nut Zippers              jazz  \n",
       "15  Squirrel Nut Zippers              jazz  \n",
       "18  Squirrel Nut Zippers              jazz  \n",
       "22  Squirrel Nut Zippers              jazz  \n",
       "24  Squirrel Nut Zippers              jazz  \n",
       "26  Squirrel Nut Zippers              jazz  \n",
       "29          Meg Lee Chin        electronic  \n",
       "34          Meg Lee Chin        electronic  \n",
       "36        Built to Spill              rock  \n",
       "37        Built to Spill        indie rock  \n",
       "38        Built to Spill              rock  \n",
       "39        Built to Spill        indie rock  \n",
       "40        Built to Spill  alternative rock  \n",
       "41        Built to Spill              rock  \n",
       "43        Built to Spill        indie rock  \n",
       "44        Built to Spill               pop  \n",
       "45        Built to Spill              rock  "
      ]
     },
     "execution_count": 40,
     "metadata": {},
     "output_type": "execute_result"
    }
   ],
   "source": [
    "filtered_album_genres.head(20)"
   ]
  },
  {
   "cell_type": "code",
   "execution_count": 41,
   "id": "abc288ff",
   "metadata": {},
   "outputs": [
    {
     "data": {
      "text/html": [
       "<div>\n",
       "<style scoped>\n",
       "    .dataframe tbody tr th:only-of-type {\n",
       "        vertical-align: middle;\n",
       "    }\n",
       "\n",
       "    .dataframe tbody tr th {\n",
       "        vertical-align: top;\n",
       "    }\n",
       "\n",
       "    .dataframe thead th {\n",
       "        text-align: right;\n",
       "    }\n",
       "</style>\n",
       "<table border=\"1\" class=\"dataframe\">\n",
       "  <thead>\n",
       "    <tr style=\"text-align: right;\">\n",
       "      <th></th>\n",
       "      <th>genre</th>\n",
       "      <th>name_release_group</th>\n",
       "      <th>name_artist</th>\n",
       "    </tr>\n",
       "    <tr>\n",
       "      <th>release_group_id</th>\n",
       "      <th></th>\n",
       "      <th></th>\n",
       "      <th></th>\n",
       "    </tr>\n",
       "  </thead>\n",
       "  <tbody>\n",
       "    <tr>\n",
       "      <th>4</th>\n",
       "      <td>alternative rock</td>\n",
       "      <td>Blue Lines</td>\n",
       "      <td>Massive Attack</td>\n",
       "    </tr>\n",
       "    <tr>\n",
       "      <th>11</th>\n",
       "      <td>jazz</td>\n",
       "      <td>Hot</td>\n",
       "      <td>Squirrel Nut Zippers</td>\n",
       "    </tr>\n",
       "    <tr>\n",
       "      <th>12</th>\n",
       "      <td>alternative rock</td>\n",
       "      <td>Chore of Enchantment</td>\n",
       "      <td>Giant Sand</td>\n",
       "    </tr>\n",
       "    <tr>\n",
       "      <th>13</th>\n",
       "      <td>jazz</td>\n",
       "      <td>The Inevitable</td>\n",
       "      <td>Squirrel Nut Zippers</td>\n",
       "    </tr>\n",
       "    <tr>\n",
       "      <th>21</th>\n",
       "      <td>ambient</td>\n",
       "      <td>The Best of the Art of Noise: Art Works</td>\n",
       "      <td>Art of Noise</td>\n",
       "    </tr>\n",
       "  </tbody>\n",
       "</table>\n",
       "</div>"
      ],
      "text/plain": [
       "                             genre                       name_release_group  \\\n",
       "release_group_id                                                              \n",
       "4                 alternative rock                               Blue Lines   \n",
       "11                            jazz                                      Hot   \n",
       "12                alternative rock                     Chore of Enchantment   \n",
       "13                            jazz                           The Inevitable   \n",
       "21                         ambient  The Best of the Art of Noise: Art Works   \n",
       "\n",
       "                           name_artist  \n",
       "release_group_id                        \n",
       "4                       Massive Attack  \n",
       "11                Squirrel Nut Zippers  \n",
       "12                          Giant Sand  \n",
       "13                Squirrel Nut Zippers  \n",
       "21                        Art of Noise  "
      ]
     },
     "execution_count": 41,
     "metadata": {},
     "output_type": "execute_result"
    }
   ],
   "source": [
    "filtered_album_genres_set.head()"
   ]
  },
  {
   "cell_type": "code",
   "execution_count": 15,
   "id": "c981a444",
   "metadata": {
    "scrolled": true
   },
   "outputs": [
    {
     "name": "stdout",
     "output_type": "stream",
     "text": [
      "Starting sample_album_genres\n",
      "sample_album_genres ran in 0.15111494064331055 seconds\n",
      "Starting build_learner\n"
     ]
    },
    {
     "data": {
      "text/html": [],
      "text/plain": [
       "<IPython.core.display.HTML object>"
      ]
     },
     "metadata": {},
     "output_type": "display_data"
    },
    {
     "name": "stdout",
     "output_type": "stream",
     "text": [
      "build_learner ran in 63.666056871414185 seconds\n"
     ]
    },
    {
     "name": "stderr",
     "output_type": "stream",
     "text": [
      "/opt/homebrew/Caskroom/miniforge/base/envs/bandclassifier/lib/python3.9/site-packages/torch/autocast_mode.py:141: UserWarning: User provided device_type of 'cuda', but CUDA is not available. Disabling\n",
      "  warnings.warn('User provided device_type of \\'cuda\\', but CUDA is not available. Disabling')\n"
     ]
    }
   ],
   "source": [
    "learner = build_learner(sample_album_genres(album_genres, 100000), True)"
   ]
  },
  {
   "cell_type": "code",
   "execution_count": 17,
   "id": "99b63e50",
   "metadata": {},
   "outputs": [
    {
     "name": "stdout",
     "output_type": "stream",
     "text": [
      "Starting build_learner\n"
     ]
    },
    {
     "data": {
      "text/html": [],
      "text/plain": [
       "<IPython.core.display.HTML object>"
      ]
     },
     "metadata": {},
     "output_type": "display_data"
    },
    {
     "name": "stdout",
     "output_type": "stream",
     "text": [
      "build_learner ran in 113.07808589935303 seconds\n",
      "Tue Dec 14 11:48:07 2021    restats\n",
      "\n",
      "         374074750 function calls (360701542 primitive calls) in 113.080 seconds\n",
      "\n",
      "   Ordered by: cumulative time\n",
      "   List reduced from 1860 to 50 due to restriction <50>\n",
      "\n",
      "   ncalls  tottime  percall  cumtime  percall filename:lineno(function)\n",
      "        1    0.000    0.000  113.080  113.080 {built-in method builtins.exec}\n",
      "        1    0.000    0.000  113.080  113.080 <string>:1(<module>)\n",
      "        1    0.000    0.000  113.080  113.080 /Users/timothybauman/code/album-classifier/utils.py:5(wrapper)\n",
      "        1    0.001    0.001  113.079  113.079 /Users/timothybauman/code/album-classifier/train_album_name_classifier.py:70(build_learner)\n",
      "        1    0.001    0.001  112.138  112.138 /opt/homebrew/Caskroom/miniforge/base/envs/bandclassifier/lib/python3.9/site-packages/fastai/data/block.py:112(dataloaders)\n",
      "        1    0.001    0.001   93.412   93.412 /opt/homebrew/Caskroom/miniforge/base/envs/bandclassifier/lib/python3.9/site-packages/fastai/data/core.py:220(dataloaders)\n",
      "        2    0.001    0.000   93.278   46.639 /opt/homebrew/Caskroom/miniforge/base/envs/bandclassifier/lib/python3.9/site-packages/fastai/text/data.py:185(__init__)\n",
      "        2    0.183    0.091   93.265   46.633 /opt/homebrew/Caskroom/miniforge/base/envs/bandclassifier/lib/python3.9/site-packages/fastai/text/data.py:189(<listcomp>)\n",
      "   100001    0.069    0.000   91.486    0.001 /opt/homebrew/Caskroom/miniforge/base/envs/bandclassifier/lib/python3.9/site-packages/fastai/data/load.py:132(do_item)\n",
      "   280002    0.281    0.000   90.248    0.000 /opt/homebrew/Caskroom/miniforge/base/envs/bandclassifier/lib/python3.9/site-packages/fastai/data/core.py:295(__getitem__)\n",
      "   100001    0.053    0.000   83.157    0.001 /opt/homebrew/Caskroom/miniforge/base/envs/bandclassifier/lib/python3.9/site-packages/fastai/data/load.py:139(create_item)\n",
      "   100001    0.089    0.000   83.104    0.001 /opt/homebrew/Caskroom/miniforge/base/envs/bandclassifier/lib/python3.9/site-packages/fastai/data/core.py:331(__getitem__)\n",
      "   100001    0.187    0.000   82.959    0.001 /opt/homebrew/Caskroom/miniforge/base/envs/bandclassifier/lib/python3.9/site-packages/fastai/data/core.py:332(<listcomp>)\n",
      "   380005    0.178    0.000   78.700    0.000 /opt/homebrew/Caskroom/miniforge/base/envs/bandclassifier/lib/python3.9/site-packages/fastcore/transform.py:200(__call__)\n",
      "   380005    0.538    0.000   78.522    0.000 /opt/homebrew/Caskroom/miniforge/base/envs/bandclassifier/lib/python3.9/site-packages/fastcore/transform.py:145(compose_tfms)\n",
      "   780014    0.360    0.000   77.787    0.000 /opt/homebrew/Caskroom/miniforge/base/envs/bandclassifier/lib/python3.9/site-packages/fastcore/transform.py:73(__call__)\n",
      "   780014    0.497    0.000   77.427    0.000 /opt/homebrew/Caskroom/miniforge/base/envs/bandclassifier/lib/python3.9/site-packages/fastcore/transform.py:81(_call)\n",
      "1180030/800024    2.135    0.000   77.001    0.000 /opt/homebrew/Caskroom/miniforge/base/envs/bandclassifier/lib/python3.9/site-packages/fastcore/dispatch.py:111(__call__)\n",
      "980019/780014    1.091    0.000   76.682    0.000 /opt/homebrew/Caskroom/miniforge/base/envs/bandclassifier/lib/python3.9/site-packages/fastcore/transform.py:85(_do_call)\n",
      "   280002    0.106    0.000   70.543    0.000 /opt/homebrew/Caskroom/miniforge/base/envs/bandclassifier/lib/python3.9/site-packages/fastai/data/core.py:260(_after_item)\n",
      "6300756/5800510    3.056    0.000   35.351    0.000 /opt/homebrew/Caskroom/miniforge/base/envs/bandclassifier/lib/python3.9/site-packages/fastcore/foundation.py:95(__call__)\n",
      "  5580170    2.130    0.000   27.207    0.000 /opt/homebrew/Caskroom/miniforge/base/envs/bandclassifier/lib/python3.9/site-packages/fastcore/foundation.py:111(__getitem__)\n",
      "5800661/5800605    3.517    0.000   24.428    0.000 /opt/homebrew/Caskroom/miniforge/base/envs/bandclassifier/lib/python3.9/site-packages/fastcore/foundation.py:103(__init__)\n",
      "  5580179    1.853    0.000   22.333    0.000 /opt/homebrew/Caskroom/miniforge/base/envs/bandclassifier/lib/python3.9/site-packages/fastcore/foundation.py:114(_get)\n",
      "   100002    0.034    0.000   21.787    0.000 /opt/homebrew/Caskroom/miniforge/base/envs/bandclassifier/lib/python3.9/site-packages/fastai/text/core.py:295(encodes)\n",
      "   100002    0.298    0.000   21.753    0.000 /opt/homebrew/Caskroom/miniforge/base/envs/bandclassifier/lib/python3.9/site-packages/fastai/text/core.py:296(_tokenize1)\n",
      "2460057/2060046    3.635    0.000   20.378    0.000 /opt/homebrew/Caskroom/miniforge/base/envs/bandclassifier/lib/python3.9/site-packages/fastcore/dispatch.py:125(__getitem__)\n",
      "6200706/6200637    2.666    0.000   19.983    0.000 /opt/homebrew/Caskroom/miniforge/base/envs/bandclassifier/lib/python3.9/site-packages/fastcore/basics.py:50(listify)\n",
      "   280022    0.226    0.000   19.058    0.000 /opt/homebrew/Caskroom/miniforge/base/envs/bandclassifier/lib/python3.9/site-packages/pandas/core/indexing.py:918(__getitem__)\n",
      "   280022    0.515    0.000   18.763    0.000 /opt/homebrew/Caskroom/miniforge/base/envs/bandclassifier/lib/python3.9/site-packages/pandas/core/indexing.py:1535(_getitem_axis)\n",
      "     11/6    0.000    0.000   18.741    3.124 /opt/homebrew/Caskroom/miniforge/base/envs/bandclassifier/lib/python3.9/site-packages/fastai/data/core.py:243(__init__)\n",
      "        1    0.000    0.000   18.725   18.725 /opt/homebrew/Caskroom/miniforge/base/envs/bandclassifier/lib/python3.9/site-packages/fastai/data/block.py:105(datasets)\n",
      "        3    0.000    0.000   18.717    6.239 /opt/homebrew/Caskroom/miniforge/base/envs/bandclassifier/lib/python3.9/site-packages/fastai/data/core.py:326(__init__)\n",
      "        1    0.000    0.000   18.717   18.717 /opt/homebrew/Caskroom/miniforge/base/envs/bandclassifier/lib/python3.9/site-packages/fastai/data/core.py:328(<listcomp>)\n",
      "        2    0.004    0.002   18.703    9.352 /opt/homebrew/Caskroom/miniforge/base/envs/bandclassifier/lib/python3.9/site-packages/fastai/data/core.py:269(setup)\n",
      "        5    0.000    0.000   18.668    3.734 /opt/homebrew/Caskroom/miniforge/base/envs/bandclassifier/lib/python3.9/site-packages/fastcore/transform.py:189(setup)\n",
      "        8    0.000    0.000   18.668    2.334 /opt/homebrew/Caskroom/miniforge/base/envs/bandclassifier/lib/python3.9/site-packages/fastcore/transform.py:194(add)\n",
      "        8    0.000    0.000   18.668    2.333 /opt/homebrew/Caskroom/miniforge/base/envs/bandclassifier/lib/python3.9/site-packages/fastcore/transform.py:77(setup)\n",
      "        1    0.000    0.000   18.574   18.574 /opt/homebrew/Caskroom/miniforge/base/envs/bandclassifier/lib/python3.9/site-packages/fastai/data/core.py:233(<listcomp>)\n",
      "        1    0.001    0.001   18.483   18.483 /opt/homebrew/Caskroom/miniforge/base/envs/bandclassifier/lib/python3.9/site-packages/fastai/text/data.py:212(new)\n",
      "        1    0.000    0.000   18.483   18.483 /opt/homebrew/Caskroom/miniforge/base/envs/bandclassifier/lib/python3.9/site-packages/fastai/data/core.py:61(new)\n",
      "        1    0.001    0.001   18.478   18.478 /opt/homebrew/Caskroom/miniforge/base/envs/bandclassifier/lib/python3.9/site-packages/fastai/data/load.py:120(new)\n",
      "   100008    0.034    0.000   18.163    0.000 /opt/homebrew/Caskroom/miniforge/base/envs/bandclassifier/lib/python3.9/site-packages/fastcore/basics.py:551(first)\n",
      "   110635    0.024    0.000   18.127    0.000 {built-in method builtins.next}\n",
      "   200004    0.144    0.000   18.111    0.000 /opt/homebrew/Caskroom/miniforge/base/envs/bandclassifier/lib/python3.9/site-packages/fastai/text/core.py:122(<genexpr>)\n",
      "   280009    0.529    0.000   16.579    0.000 /opt/homebrew/Caskroom/miniforge/base/envs/bandclassifier/lib/python3.9/site-packages/pandas/core/frame.py:3366(_ixs)\n",
      "   880016    0.385    0.000   13.766    0.000 /opt/homebrew/Caskroom/miniforge/base/envs/bandclassifier/lib/python3.9/site-packages/fastcore/dispatch.py:100(returns)\n",
      "   200004    0.193    0.000   12.887    0.000 /opt/homebrew/Caskroom/miniforge/base/envs/bandclassifier/lib/python3.9/site-packages/spacy/language.py:1493(pipe)\n",
      "   200004    0.052    0.000   12.170    0.000 /opt/homebrew/Caskroom/miniforge/base/envs/bandclassifier/lib/python3.9/site-packages/spacy/language.py:1575(<genexpr>)\n",
      "   100002    0.047    0.000   12.118    0.000 /opt/homebrew/Caskroom/miniforge/base/envs/bandclassifier/lib/python3.9/site-packages/spacy/language.py:1086(_ensure_doc)\n",
      "\n",
      "\n"
     ]
    },
    {
     "name": "stderr",
     "output_type": "stream",
     "text": [
      "/opt/homebrew/Caskroom/miniforge/base/envs/bandclassifier/lib/python3.9/site-packages/torch/autocast_mode.py:141: UserWarning: User provided device_type of 'cuda', but CUDA is not available. Disabling\n",
      "  warnings.warn('User provided device_type of \\'cuda\\', but CUDA is not available. Disabling')\n"
     ]
    },
    {
     "data": {
      "text/plain": [
       "<pstats.Stats at 0x289c9cd30>"
      ]
     },
     "execution_count": 17,
     "metadata": {},
     "output_type": "execute_result"
    }
   ],
   "source": [
    "import cProfile\n",
    "album_genres_sample = sample_album_genres(album_genres, 100000)\n",
    "cProfile.run('build_learner(album_genres_sample, True)', 'restats')\n",
    "import pstats\n",
    "p = pstats.Stats('restats')\n",
    "p.sort_stats('cumtime').print_stats(50)"
   ]
  },
  {
   "cell_type": "code",
   "execution_count": 18,
   "id": "8d97631a",
   "metadata": {},
   "outputs": [
    {
     "name": "stdout",
     "output_type": "stream",
     "text": [
      "Tue Dec 14 11:48:07 2021    restats\n",
      "\n",
      "         374074750 function calls (360701542 primitive calls) in 113.080 seconds\n",
      "\n",
      "   Ordered by: internal time\n",
      "   List reduced from 1860 to 50 due to restriction <50>\n",
      "\n",
      "   ncalls  tottime  percall  cumtime  percall filename:lineno(function)\n",
      "   200000    7.209    0.000    7.209    0.000 {built-in method posix.read}\n",
      "63774059/57453424    4.820    0.000    8.747    0.000 {built-in method builtins.isinstance}\n",
      "2460057/2060046    3.635    0.000   20.378    0.000 /opt/homebrew/Caskroom/miniforge/base/envs/bandclassifier/lib/python3.9/site-packages/fastcore/dispatch.py:125(__getitem__)\n",
      "5800661/5800605    3.517    0.000   24.428    0.000 /opt/homebrew/Caskroom/miniforge/base/envs/bandclassifier/lib/python3.9/site-packages/fastcore/foundation.py:103(__init__)\n",
      "6300756/5800510    3.056    0.000   35.351    0.000 /opt/homebrew/Caskroom/miniforge/base/envs/bandclassifier/lib/python3.9/site-packages/fastcore/foundation.py:95(__call__)\n",
      "   938371    2.952    0.000    3.023    0.000 spacy/tokenizer.pyx:542(find_suffix)\n",
      "6200706/6200637    2.666    0.000   19.983    0.000 /opt/homebrew/Caskroom/miniforge/base/envs/bandclassifier/lib/python3.9/site-packages/fastcore/basics.py:50(listify)\n",
      "26474855/26474449    2.292    0.000    2.822    0.000 {built-in method builtins.getattr}\n",
      "3453533/3453375    2.267    0.000    4.449    0.000 /opt/homebrew/Caskroom/miniforge/base/envs/bandclassifier/lib/python3.9/site-packages/fastcore/basics.py:677(__call__)\n",
      "1180030/800024    2.135    0.000   77.001    0.000 /opt/homebrew/Caskroom/miniforge/base/envs/bandclassifier/lib/python3.9/site-packages/fastcore/dispatch.py:111(__call__)\n",
      "  5580170    2.130    0.000   27.207    0.000 /opt/homebrew/Caskroom/miniforge/base/envs/bandclassifier/lib/python3.9/site-packages/fastcore/foundation.py:111(__getitem__)\n",
      "   680017    2.087    0.000    2.087    0.000 /opt/homebrew/Caskroom/miniforge/base/envs/bandclassifier/lib/python3.9/site-packages/pandas/core/internals/blocks.py:348(iget)\n",
      "  5580179    1.853    0.000   22.333    0.000 /opt/homebrew/Caskroom/miniforge/base/envs/bandclassifier/lib/python3.9/site-packages/fastcore/foundation.py:114(_get)\n",
      "20772458/15412074    1.796    0.000    4.169    0.000 {built-in method builtins.len}\n",
      "1280241/1280119    1.596    0.000    7.817    0.000 /opt/homebrew/Caskroom/miniforge/base/envs/bandclassifier/lib/python3.9/site-packages/fastcore/basics.py:691(map_ex)\n",
      "  1260027    1.517    0.000    2.792    0.000 /opt/homebrew/Caskroom/miniforge/base/envs/bandclassifier/lib/python3.9/typing.py:1389(get_type_hints)\n",
      " 11540352    1.473    0.000    2.073    0.000 /opt/homebrew/Caskroom/miniforge/base/envs/bandclassifier/lib/python3.9/site-packages/fastcore/foundation.py:78(is_indexer)\n",
      "20065537/20065521    1.343    0.000    1.344    0.000 {built-in method builtins.hasattr}\n",
      "   603210    1.310    0.000    2.119    0.000 {method 'sub' of 're.Pattern' objects}\n",
      "   705493    1.286    0.000    1.338    0.000 spacy/tokenizer.pyx:514(find_infix)\n",
      "   709599    1.211    0.000    5.101    0.000 spacy/tokenizer.pyx:431(_attach_tokens)\n",
      "   280012    1.145    0.000    9.890    0.000 /opt/homebrew/Caskroom/miniforge/base/envs/bandclassifier/lib/python3.9/site-packages/pandas/core/series.py:315(__init__)\n",
      "   100002    1.132    0.000    1.132    0.000 /opt/homebrew/Caskroom/miniforge/base/envs/bandclassifier/lib/python3.9/site-packages/fastai/text/data.py:48(<listcomp>)\n",
      "980019/780014    1.091    0.000   76.682    0.000 /opt/homebrew/Caskroom/miniforge/base/envs/bandclassifier/lib/python3.9/site-packages/fastcore/transform.py:85(_do_call)\n",
      "  3940668    1.067    0.000    1.497    0.000 /opt/homebrew/Caskroom/miniforge/base/envs/bandclassifier/lib/python3.9/site-packages/fastcore/foundation.py:136(__iter__)\n",
      "  5900691    1.029    0.000    1.709    0.000 /opt/homebrew/Caskroom/miniforge/base/envs/bandclassifier/lib/python3.9/site-packages/fastcore/basics.py:45(is_array)\n",
      "   100377    0.940    0.000   11.855    0.000 spacy/tokenizer.pyx:146(_tokenize_affixes)\n",
      "  3160429    0.931    0.000    2.759    0.000 /opt/homebrew/Caskroom/miniforge/base/envs/bandclassifier/lib/python3.9/typing.py:843(__subclasscheck__)\n",
      "  3160372    0.897    0.000    3.655    0.000 /opt/homebrew/Caskroom/miniforge/base/envs/bandclassifier/lib/python3.9/typing.py:714(__instancecheck__)\n",
      "   938578    0.884    0.000    0.954    0.000 spacy/tokenizer.pyx:528(find_prefix)\n",
      "2060165/2060138    0.812    0.000    2.501    0.000 /opt/homebrew/Caskroom/miniforge/base/envs/bandclassifier/lib/python3.9/site-packages/fastcore/basics.py:386(__getattr__)\n",
      "5600237/5600235    0.791    0.000    1.065    0.000 /opt/homebrew/Caskroom/miniforge/base/envs/bandclassifier/lib/python3.9/site-packages/fastcore/foundation.py:86(__len__)\n",
      "1280241/1280119    0.767    0.000   11.397    0.000 /opt/homebrew/Caskroom/miniforge/base/envs/bandclassifier/lib/python3.9/site-packages/fastcore/foundation.py:155(map)\n",
      "   709599    0.726    0.000    4.808    0.000 spacy/tokenizer.pyx:386(_split_affixes)\n",
      "  4780622    0.725    0.000    1.610    0.000 {built-in method builtins.issubclass}\n",
      "    80488    0.721    0.000    1.966    0.000 spacy/vocab.pyx:175(_new_lexeme)\n",
      "   200010    0.719    0.000    1.101    0.000 /opt/homebrew/Caskroom/miniforge/base/envs/bandclassifier/lib/python3.9/site-packages/numpy/core/numerictypes.py:575(_can_coerce_all)\n",
      "   300015    0.694    0.000    1.266    0.000 /opt/homebrew/Caskroom/miniforge/base/envs/bandclassifier/lib/python3.9/site-packages/torch/_tensor.py:1029(__torch_function__)\n",
      "  1280239    0.681    0.000    1.304    0.000 /opt/homebrew/Caskroom/miniforge/base/envs/bandclassifier/lib/python3.9/site-packages/fastcore/basics.py:673(__init__)\n",
      "  2860263    0.667    0.000    5.142    0.000 /opt/homebrew/Caskroom/miniforge/base/envs/bandclassifier/lib/python3.9/site-packages/fastcore/imports.py:20(is_iter)\n",
      "2060165/2060152    0.665    0.000    1.333    0.000 /opt/homebrew/Caskroom/miniforge/base/envs/bandclassifier/lib/python3.9/site-packages/fastcore/basics.py:381(_component_attr_filter)\n",
      "   100001    0.662    0.000    0.663    0.000 {built-in method _warnings.warn}\n",
      "  4120093    0.640    0.000    0.640    0.000 /opt/homebrew/Caskroom/miniforge/base/envs/bandclassifier/lib/python3.9/site-packages/fastcore/dispatch.py:62(all_matches)\n",
      "  5800661    0.619    0.000    0.619    0.000 /opt/homebrew/Caskroom/miniforge/base/envs/bandclassifier/lib/python3.9/site-packages/fastcore/foundation.py:85(__init__)\n",
      "   280004    0.588    0.000    5.692    0.000 /opt/homebrew/Caskroom/miniforge/base/envs/bandclassifier/lib/python3.9/site-packages/pandas/core/internals/managers.py:939(fast_xs)\n",
      "  1840037    0.582    0.000    3.580    0.000 /opt/homebrew/Caskroom/miniforge/base/envs/bandclassifier/lib/python3.9/site-packages/fastcore/basics.py:239(type_hints)\n",
      "   200025    0.576    0.000    0.576    0.000 {built-in method tensor}\n",
      "   280010    0.576    0.000    2.651    0.000 /opt/homebrew/Caskroom/miniforge/base/envs/bandclassifier/lib/python3.9/site-packages/pandas/core/construction.py:463(sanitize_array)\n",
      "  1660036    0.564    0.000    0.880    0.000 /opt/homebrew/Caskroom/miniforge/base/envs/bandclassifier/lib/python3.9/site-packages/fastcore/dispatch.py:69(__getitem__)\n",
      "   380005    0.538    0.000   78.522    0.000 /opt/homebrew/Caskroom/miniforge/base/envs/bandclassifier/lib/python3.9/site-packages/fastcore/transform.py:145(compose_tfms)\n",
      "\n",
      "\n"
     ]
    },
    {
     "data": {
      "text/plain": [
       "<pstats.Stats at 0x289c9cd30>"
      ]
     },
     "execution_count": 18,
     "metadata": {},
     "output_type": "execute_result"
    }
   ],
   "source": [
    "p.sort_stats('tottime').print_stats(50)"
   ]
  },
  {
   "cell_type": "code",
   "execution_count": 8,
   "id": "f4c4fb36",
   "metadata": {},
   "outputs": [
    {
     "name": "stdout",
     "output_type": "stream",
     "text": [
      "-------------------------------------------  ------------  ------------  ------------  ------------  ------------  ------------  \n",
      "                                       Name    Self CPU %      Self CPU   CPU total %     CPU total  CPU time avg    # of Calls  \n",
      "-------------------------------------------  ------------  ------------  ------------  ------------  ------------  ------------  \n",
      "                              build_learner        96.50%        9.445s        99.99%        9.787s        9.787s             1  \n",
      "                             aten::uniform_         0.92%      90.390ms         0.92%      90.390ms       6.026ms            15  \n",
      "                           aten::index_put_         0.18%      17.945ms         0.62%      60.207ms       6.019us         10002  \n",
      "                     aten::_index_put_impl_         0.27%      26.408ms         0.49%      47.994ms       4.798us         10002  \n",
      "                                   aten::to         0.24%      23.264ms         0.43%      41.780ms       1.391us         30031  \n",
      "                                aten::copy_         0.39%      37.893ms         0.39%      37.893ms       2.362us         16041  \n",
      "                             aten::_to_copy         0.09%       8.802ms         0.30%      29.695ms       2.968us         10004  \n",
      "                                aten::zeros         0.19%      18.673ms         0.25%      24.151ms       2.411us         10015  \n",
      "                                aten::clone         0.00%     372.000us         0.25%      23.997ms       1.091ms            22  \n",
      "                              aten::detach_         0.18%      18.046ms         0.19%      18.445ms       0.921us         20025  \n",
      "                                aten::alias         0.19%      18.304ms         0.19%      18.304ms       0.610us         30013  \n",
      "                                aten::empty         0.17%      16.532ms         0.17%      16.532ms       0.550us         30067  \n",
      "                              aten::normal_         0.15%      15.088ms         0.15%      15.088ms      15.088ms             1  \n",
      "                               aten::select         0.15%      14.496ms         0.15%      14.561ms       1.250us         11646  \n",
      "                              aten::reshape         0.14%      13.408ms         0.14%      13.658ms       1.366us         10002  \n",
      "                                 aten::mean         0.00%     162.000us         0.14%      13.255ms       6.628ms             2  \n",
      "                                  aten::sum         0.13%      12.998ms         0.13%      13.031ms       6.516ms             2  \n",
      "                        aten::empty_strided         0.05%       4.441ms         0.05%       4.441ms       0.443us         10026  \n",
      "                           aten::as_strided         0.02%       2.266ms         0.04%       3.606ms       0.167us         21655  \n",
      "                                    detach_         0.00%     399.000us         0.04%       3.494ms       0.174us         20025  \n",
      "                       aten::_reshape_alias         0.00%     250.000us         0.02%       1.958ms       0.196us         10002  \n",
      "                                aten::zero_         0.01%       1.275ms         0.02%       1.592ms       0.159us         10021  \n",
      "                            aten::new_zeros         0.00%      22.000us         0.00%     388.000us      38.800us            10  \n",
      "                                aten::fill_         0.00%     331.000us         0.00%     332.000us      20.750us            16  \n",
      "                               aten::detach         0.00%      45.000us         0.00%     269.000us       7.472us            36  \n",
      "                                     detach         0.00%     224.000us         0.00%     235.000us       6.528us            36  \n",
      "                             aten::randperm         0.00%      86.000us         0.00%     175.000us      87.500us             2  \n",
      "                                 aten::div_         0.00%      25.000us         0.00%      62.000us      31.000us             2  \n",
      "                                  aten::cat         0.00%      19.000us         0.00%      44.000us      14.667us             3  \n",
      "                                 aten::_cat         0.00%       8.000us         0.00%      30.000us      10.000us             3  \n",
      "                                aten::stack         0.00%       9.000us         0.00%      30.000us      15.000us             2  \n",
      "                            aten::unsqueeze         0.00%      23.000us         0.00%      24.000us       8.000us             3  \n",
      "                               aten::narrow         0.00%       9.000us         0.00%      11.000us       5.500us             2  \n",
      "                                 aten::ones         0.00%       6.000us         0.00%       9.000us       4.500us             2  \n",
      "    aten::_has_compatible_shallow_copy_type         0.00%       9.000us         0.00%       9.000us       0.643us            14  \n",
      "                                  aten::add         0.00%       8.000us         0.00%       8.000us       4.000us             2  \n",
      "                                aten::slice         0.00%       1.000us         0.00%       7.000us       3.500us             2  \n",
      "                              aten::resize_         0.00%       6.000us         0.00%       6.000us       1.200us             5  \n",
      "                                 aten::set_         0.00%       6.000us         0.00%       6.000us       0.316us            19  \n",
      "                        aten::scalar_tensor         0.00%       5.000us         0.00%       5.000us       5.000us             1  \n",
      "-------------------------------------------  ------------  ------------  ------------  ------------  ------------  ------------  \n",
      "Self CPU time total: 9.787s\n",
      "\n"
     ]
    }
   ],
   "source": [
    "# learner = build_learner(album_genres_sample)\n",
    "learner.fine_tune(10, base_lr=2e-2)\n",
    "learner.save('2genres-10epochs-full-dataset')"
   ]
  },
  {
   "cell_type": "code",
   "execution_count": null,
   "id": "440e83dc",
   "metadata": {},
   "outputs": [],
   "source": [
    "learner2 = build_learner(album_genres_sample)\n",
    "learner2.fine_tune(5, base_lr=2e-2)\n",
    "learner2.save('2genres-10epochs-full-dataset')"
   ]
  },
  {
   "cell_type": "code",
   "execution_count": 9,
   "id": "fa8fdc69",
   "metadata": {},
   "outputs": [
    {
     "name": "stdout",
     "output_type": "stream",
     "text": [
      "Starting get_album_genres\n",
      "Starting get_release_group_tags\n",
      "Starting get_genres\n",
      "Starting get_tags\n",
      "get_tags ran in 0.08573698997497559 seconds\n",
      "get_genres ran in 0.1045980453491211 seconds\n",
      "get_release_group_tags ran in 1.444195032119751 seconds\n",
      "Starting get_top_tags\n",
      "get_top_tags ran in 0.4284491539001465 seconds\n",
      "Starting get_albums\n",
      "Starting get_release_groups\n",
      "get_release_groups ran in 3.166116952896118 seconds\n",
      "Starting get_artists\n"
     ]
    },
    {
     "name": "stderr",
     "output_type": "stream",
     "text": [
      "/Users/timothybauman/code/album-classifier/utils.py:8: DtypeWarning: Columns (14) have mixed types.Specify dtype option on import or set low_memory=False.\n",
      "  res = func(*args, **kwargs)\n"
     ]
    },
    {
     "name": "stdout",
     "output_type": "stream",
     "text": [
      "get_artists ran in 4.7278032302856445 seconds\n",
      "get_albums ran in 8.872323751449585 seconds\n",
      "get_album_genres ran in 16.858504056930542 seconds\n",
      "Starting test_learner\n"
     ]
    },
    {
     "ename": "AttributeError",
     "evalue": "'dict' object has no attribute 'predict'",
     "output_type": "error",
     "traceback": [
      "\u001b[0;31m---------------------------------------------------------------------------\u001b[0m",
      "\u001b[0;31mAttributeError\u001b[0m                            Traceback (most recent call last)",
      "\u001b[0;32m/var/folders/ry/_rlvvx7x41b6m8b0fz2rnqp00000gn/T/ipykernel_51435/1585790749.py\u001b[0m in \u001b[0;36m<module>\u001b[0;34m\u001b[0m\n\u001b[1;32m      1\u001b[0m \u001b[0;32mfrom\u001b[0m \u001b[0mtrain_album_name_classifier\u001b[0m \u001b[0;32mimport\u001b[0m \u001b[0;34m*\u001b[0m\u001b[0;34m\u001b[0m\u001b[0;34m\u001b[0m\u001b[0m\n\u001b[1;32m      2\u001b[0m \u001b[0malbum_genres\u001b[0m \u001b[0;34m=\u001b[0m \u001b[0mget_album_genres\u001b[0m\u001b[0;34m(\u001b[0m\u001b[0;36m2\u001b[0m\u001b[0;34m)\u001b[0m\u001b[0;34m\u001b[0m\u001b[0;34m\u001b[0m\u001b[0m\n\u001b[0;32m----> 3\u001b[0;31m \u001b[0mtest_learner\u001b[0m\u001b[0;34m(\u001b[0m\u001b[0mx\u001b[0m\u001b[0;34m,\u001b[0m \u001b[0malbum_genres\u001b[0m\u001b[0;34m)\u001b[0m\u001b[0;34m\u001b[0m\u001b[0;34m\u001b[0m\u001b[0m\n\u001b[0m",
      "\u001b[0;32m~/code/album-classifier/utils.py\u001b[0m in \u001b[0;36mwrapper\u001b[0;34m(*args, **kwargs)\u001b[0m\n\u001b[1;32m      6\u001b[0m         \u001b[0mprint\u001b[0m\u001b[0;34m(\u001b[0m\u001b[0;34mf\"Starting {func.__name__}\"\u001b[0m\u001b[0;34m)\u001b[0m\u001b[0;34m\u001b[0m\u001b[0;34m\u001b[0m\u001b[0m\n\u001b[1;32m      7\u001b[0m         \u001b[0mstart_time\u001b[0m \u001b[0;34m=\u001b[0m \u001b[0mtime\u001b[0m\u001b[0;34m.\u001b[0m\u001b[0mtime\u001b[0m\u001b[0;34m(\u001b[0m\u001b[0;34m)\u001b[0m\u001b[0;34m\u001b[0m\u001b[0;34m\u001b[0m\u001b[0m\n\u001b[0;32m----> 8\u001b[0;31m         \u001b[0mres\u001b[0m \u001b[0;34m=\u001b[0m \u001b[0mfunc\u001b[0m\u001b[0;34m(\u001b[0m\u001b[0;34m*\u001b[0m\u001b[0margs\u001b[0m\u001b[0;34m,\u001b[0m \u001b[0;34m**\u001b[0m\u001b[0mkwargs\u001b[0m\u001b[0;34m)\u001b[0m\u001b[0;34m\u001b[0m\u001b[0;34m\u001b[0m\u001b[0m\n\u001b[0m\u001b[1;32m      9\u001b[0m         \u001b[0mprint\u001b[0m\u001b[0;34m(\u001b[0m\u001b[0;34mf\"{func.__name__} ran in {time.time() - start_time} seconds\"\u001b[0m\u001b[0;34m)\u001b[0m\u001b[0;34m\u001b[0m\u001b[0;34m\u001b[0m\u001b[0m\n\u001b[1;32m     10\u001b[0m         \u001b[0;32mreturn\u001b[0m \u001b[0mres\u001b[0m\u001b[0;34m\u001b[0m\u001b[0;34m\u001b[0m\u001b[0m\n",
      "\u001b[0;32m~/code/album-classifier/train_album_name_classifier.py\u001b[0m in \u001b[0;36mtest_learner\u001b[0;34m(learner, album_genres)\u001b[0m\n\u001b[1;32m    183\u001b[0m \u001b[0;32mdef\u001b[0m \u001b[0mtest_learner\u001b[0m\u001b[0;34m(\u001b[0m\u001b[0mlearner\u001b[0m\u001b[0;34m,\u001b[0m \u001b[0malbum_genres\u001b[0m\u001b[0;34m)\u001b[0m\u001b[0;34m:\u001b[0m\u001b[0;34m\u001b[0m\u001b[0;34m\u001b[0m\u001b[0m\n\u001b[1;32m    184\u001b[0m     \u001b[0mfoo\u001b[0m \u001b[0;34m=\u001b[0m \u001b[0malbum_genres\u001b[0m\u001b[0;34m.\u001b[0m\u001b[0msample\u001b[0m\u001b[0;34m(\u001b[0m\u001b[0mn\u001b[0m\u001b[0;34m=\u001b[0m\u001b[0;36m30\u001b[0m\u001b[0;34m)\u001b[0m\u001b[0;34m\u001b[0m\u001b[0;34m\u001b[0m\u001b[0m\n\u001b[0;32m--> 185\u001b[0;31m     \u001b[0mfoo\u001b[0m\u001b[0;34m[\u001b[0m\u001b[0;34m\"result\"\u001b[0m\u001b[0;34m]\u001b[0m \u001b[0;34m=\u001b[0m \u001b[0mfoo\u001b[0m\u001b[0;34m[\u001b[0m\u001b[0;34m\"description\"\u001b[0m\u001b[0;34m]\u001b[0m\u001b[0;34m.\u001b[0m\u001b[0mmap\u001b[0m\u001b[0;34m(\u001b[0m\u001b[0mlearner\u001b[0m\u001b[0;34m.\u001b[0m\u001b[0mpredict\u001b[0m\u001b[0;34m)\u001b[0m\u001b[0;34m\u001b[0m\u001b[0;34m\u001b[0m\u001b[0m\n\u001b[0m\u001b[1;32m    186\u001b[0m     \u001b[0mprint\u001b[0m\u001b[0;34m(\u001b[0m\u001b[0mfoo\u001b[0m\u001b[0;34m)\u001b[0m\u001b[0;34m\u001b[0m\u001b[0;34m\u001b[0m\u001b[0m\n\u001b[1;32m    187\u001b[0m \u001b[0;34m\u001b[0m\u001b[0m\n",
      "\u001b[0;31mAttributeError\u001b[0m: 'dict' object has no attribute 'predict'"
     ]
    }
   ],
   "source": [
    "from train_album_name_classifier import *\n",
    "album_genres = get_album_genres(2)\n",
    "test_learner(x, album_genres)"
   ]
  },
  {
   "cell_type": "code",
   "execution_count": 10,
   "id": "0a841072",
   "metadata": {},
   "outputs": [
    {
     "name": "stdout",
     "output_type": "stream",
     "text": [
      "Starting build_learner\n"
     ]
    },
    {
     "data": {
      "text/html": [],
      "text/plain": [
       "<IPython.core.display.HTML object>"
      ]
     },
     "metadata": {},
     "output_type": "display_data"
    },
    {
     "name": "stdout",
     "output_type": "stream",
     "text": [
      "build_learner ran in 215.24320101737976 seconds\n"
     ]
    },
    {
     "name": "stderr",
     "output_type": "stream",
     "text": [
      "/opt/homebrew/Caskroom/miniforge/base/envs/bandclassifier/lib/python3.9/site-packages/torch/autocast_mode.py:141: UserWarning: User provided device_type of 'cuda', but CUDA is not available. Disabling\n",
      "  warnings.warn('User provided device_type of \\'cuda\\', but CUDA is not available. Disabling')\n"
     ]
    }
   ],
   "source": [
    "learner.fit_one_cycle(3, base_lr=2e-2)\n",
    "learner.save('2genres-4epochs')"
   ]
  }
 ],
 "metadata": {
  "kernelspec": {
   "display_name": "Python 3 (ipykernel)",
   "language": "python",
   "name": "python3"
  },
  "language_info": {
   "codemirror_mode": {
    "name": "ipython",
    "version": 3
   },
   "file_extension": ".py",
   "mimetype": "text/x-python",
   "name": "python",
   "nbconvert_exporter": "python",
   "pygments_lexer": "ipython3",
   "version": "3.9.7"
  }
 },
 "nbformat": 4,
 "nbformat_minor": 5
}
